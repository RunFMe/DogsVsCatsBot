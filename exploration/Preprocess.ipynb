{
 "cells": [
  {
   "cell_type": "code",
   "execution_count": 70,
   "metadata": {
    "collapsed": true
   },
   "outputs": [],
   "source": [
    "import os\n",
    "from random import shuffle\n",
    "import shutil"
   ]
  },
  {
   "cell_type": "code",
   "execution_count": 71,
   "metadata": {
    "collapsed": false,
    "scrolled": true
   },
   "outputs": [],
   "source": [
    "classes = ['dog', 'cat']\n",
    "\n",
    "data_folder = os.path.join('./', 'data/')\n",
    "train_folder = os.path.join('./', 'train/')\n",
    "valid_folder = os.path.join('./', 'valid/')\n",
    "\n",
    "#create folders\n",
    "if not os.path.exists(train_folder):\n",
    "    os.makedirs(train_folder)\n",
    "if not os.path.exists(valid_folder):\n",
    "    os.makedirs(valid_folder)\n",
    "    \n",
    "files = os.listdir(data_folder)\n",
    "files = [os.path.join(data_folder, name) for name in files]\n",
    "shuffle(files)\n",
    "\n",
    "train_files, valid_files = files[4000:], files[:4000]"
   ]
  },
  {
   "cell_type": "code",
   "execution_count": 72,
   "metadata": {
    "collapsed": false
   },
   "outputs": [],
   "source": [
    "#separate data on training and validation\n",
    "for valid_file in valid_files:\n",
    "    shutil.copy(valid_file, valid_folder)\n",
    "for train_file in train_files:\n",
    "    shutil.copy(train_file, train_folder)"
   ]
  },
  {
   "cell_type": "code",
   "execution_count": 73,
   "metadata": {
    "collapsed": true
   },
   "outputs": [],
   "source": [
    "def get_class(filepath):\n",
    "    return os.path.basename(filepath).split('.')[0]"
   ]
  },
  {
   "cell_type": "code",
   "execution_count": 74,
   "metadata": {
    "collapsed": true
   },
   "outputs": [],
   "source": [
    "def separate_classes(folder):\n",
    "    #create folders for data if they don't exis\n",
    "    for clazz in classes:\n",
    "        path = os.path.join(folder, clazz + '/')\n",
    "        if not os.path.exists(path):\n",
    "            os.makedirs(path)\n",
    "            print \"Created folder \" + path\n",
    "    \n",
    "    #get all image paths\n",
    "    images = os.listdir(folder)\n",
    "    image_paths = [os.path.join(folder, image) for image in images]\n",
    "    \n",
    "    #move every image to its class folder path/classname/image.jpg\n",
    "    for path in image_paths:\n",
    "        clazz = get_class(path)\n",
    "        shutil.move(path, os.path.join(folder, clazz + '/'))"
   ]
  },
  {
   "cell_type": "code",
   "execution_count": 75,
   "metadata": {
    "collapsed": false
   },
   "outputs": [
    {
     "name": "stdout",
     "output_type": "stream",
     "text": [
      "Created folder ./valid/dog/\n",
      "Created folder ./valid/cat/\n",
      "Created folder ./train/dog/\n",
      "Created folder ./train/cat/\n"
     ]
    }
   ],
   "source": [
    "separate_classes(valid_folder)\n",
    "separate_classes(train_folder)"
   ]
  }
 ],
 "metadata": {
  "kernelspec": {
   "display_name": "Python 2",
   "language": "python",
   "name": "python2"
  },
  "language_info": {
   "codemirror_mode": {
    "name": "ipython",
    "version": 2
   },
   "file_extension": ".py",
   "mimetype": "text/x-python",
   "name": "python",
   "nbconvert_exporter": "python",
   "pygments_lexer": "ipython2",
   "version": "2.7.13"
  }
 },
 "nbformat": 4,
 "nbformat_minor": 2
}
